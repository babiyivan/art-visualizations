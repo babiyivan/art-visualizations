{
 "cells": [
  {
   "cell_type": "code",
   "execution_count": null,
   "id": "7b3fea35",
   "metadata": {},
   "outputs": [],
   "source": [
    "# Import Libraries\n",
    "import pandas as pd\n",
    "import matplotlib.pyplot as plt\n",
    "import seaborn as sns"
   ]
  },
  {
   "cell_type": "code",
   "execution_count": null,
   "id": "657bab7b",
   "metadata": {},
   "outputs": [],
   "source": [
    "# Load Dataset\n",
    "df = pd.read_csv('../artvis_dump_NEW.csv', parse_dates=['a.birthdate', 'a.deathdate', 'e.startdate'])"
   ]
  },
  {
   "cell_type": "code",
   "execution_count": null,
   "id": "d4659e52",
   "metadata": {},
   "outputs": [],
   "source": [
    "# Data Cleaning\n",
    "df['a.birthdate'] = pd.to_datetime(df['a.birthdate'], errors='coerce').dt.year\n",
    "df['a.deathdate'] = pd.to_datetime(df['a.deathdate'], errors='coerce').dt.year\n",
    "df['e.latitude'] = pd.to_numeric(df['e.latitude'], errors='coerce')\n",
    "df['e.longitude'] = pd.to_numeric(df['e.longitude'], errors='coerce')"
   ]
  },
  {
   "cell_type": "code",
   "execution_count": null,
   "id": "0cdc53ed",
   "metadata": {},
   "outputs": [],
   "source": [
    "# Exploratory Data Analysis\n",
    "print(df.describe())"
   ]
  },
  {
   "cell_type": "code",
   "execution_count": null,
   "id": "204178fb",
   "metadata": {},
   "outputs": [],
   "source": [
    "print(df['a.gender'].value_counts())"
   ]
  },
  {
   "cell_type": "code",
   "execution_count": null,
   "id": "71dd746b",
   "metadata": {},
   "outputs": [],
   "source": [
    "print(df['e.type'].value_counts())"
   ]
  },
  {
   "cell_type": "code",
   "execution_count": null,
   "id": "657af5c5",
   "metadata": {},
   "outputs": [],
   "source": [
    "print(df['e.type'].value_counts())"
   ]
  },
  {
   "cell_type": "code",
   "execution_count": null,
   "id": "b8edc94a",
   "metadata": {},
   "outputs": [],
   "source": [
    "# Visualizations\n",
    "sns.countplot(data=df, x='a.gender')\n",
    "plt.title('Gender Distribution of Artists')\n",
    "plt.show()"
   ]
  },
  {
   "cell_type": "code",
   "execution_count": null,
   "id": "f1d756fa",
   "metadata": {},
   "outputs": [],
   "source": [
    "sns.histplot(data=df, x='e.startdate', bins=10)\n",
    "plt.title('Exhibitions Over Time')\n",
    "plt.show()"
   ]
  },
  {
   "cell_type": "code",
   "execution_count": null,
   "id": "cf0d5065",
   "metadata": {},
   "outputs": [],
   "source": [
    "sns.scatterplot(data=df, x='e.longitude', y='e.latitude', hue='e.type')\n",
    "plt.title('Geographic Distribution of Exhibitions')\n",
    "plt.show()"
   ]
  },
  {
   "cell_type": "code",
   "execution_count": null,
   "id": "654d9e92",
   "metadata": {},
   "outputs": [],
   "source": [
    "# pip install geopandas folium"
   ]
  },
  {
   "cell_type": "code",
   "execution_count": null,
   "id": "d205c10d",
   "metadata": {},
   "outputs": [],
   "source": [
    "import folium\n",
    "from folium.plugins import MarkerCluster"
   ]
  },
  {
   "cell_type": "code",
   "execution_count": null,
   "id": "c559dc55",
   "metadata": {},
   "outputs": [],
   "source": [
    "# Create a base map\n",
    "m = folium.Map(location=[0, 0], zoom_start=2)"
   ]
  },
  {
   "cell_type": "code",
   "execution_count": null,
   "id": "8ae14bca",
   "metadata": {},
   "outputs": [],
   "source": [
    "# Create a marker cluster\n",
    "marker_cluster = MarkerCluster().add_to(m)"
   ]
  },
  {
   "cell_type": "code",
   "execution_count": null,
   "id": "cde13d2c",
   "metadata": {},
   "outputs": [],
   "source": [
    "# Add points to the map\n",
    "for idx, row in df.iterrows():\n",
    "    if not pd.isna(row['e.latitude']) and not pd.isna(row['e.longitude']):\n",
    "        folium.Marker(\n",
    "            location=[row['e.latitude'], row['e.longitude']],\n",
    "            popup=f\"{row['e.title']} ({row['e.type']})\",\n",
    "            icon=folium.Icon(color='blue' if row['e.type'] == 'group' else 'green' if row['e.type'] == 'solo' else 'red')\n",
    "        ).add_to(marker_cluster)"
   ]
  },
  {
   "cell_type": "code",
   "execution_count": null,
   "id": "7a0aa8d7",
   "metadata": {},
   "outputs": [],
   "source": [
    "# Save the map to an HTML file\n",
    "map_file = 'exhibitions_map.html'\n",
    "m.save(map_file)"
   ]
  },
  {
   "cell_type": "code",
   "execution_count": null,
   "id": "8be0cbdb",
   "metadata": {
    "scrolled": true
   },
   "outputs": [],
   "source": [
    "# # Display the map in Jupyter Notebook\n",
    "m"
   ]
  },
  {
   "cell_type": "code",
   "execution_count": null,
   "id": "74ffeddb",
   "metadata": {},
   "outputs": [],
   "source": [
    "# Plotting the distribution of exhibition types\n",
    "sns.countplot(data=df, x='e.type')\n",
    "plt.title('Distribution of Exhibition Types')\n",
    "plt.xlabel('Exhibition Type')\n",
    "plt.ylabel('Count')\n",
    "plt.show()"
   ]
  },
  {
   "cell_type": "code",
   "execution_count": null,
   "id": "ae30099c",
   "metadata": {},
   "outputs": [],
   "source": [
    "# Count the number of exhibitions per city\n",
    "city_counts = df['e.city'].value_counts().reset_index()\n",
    "city_counts.columns = ['City', 'Exhibition Count']\n",
    "\n",
    "# Plotting the top 10 cities with the most exhibitions\n",
    "plt.figure(figsize=(12,6))\n",
    "sns.barplot(data=city_counts.head(10), x='City', y='Exhibition Count')\n",
    "plt.title('Top 10 Cities by Number of Exhibitions')\n",
    "plt.xlabel('City')\n",
    "plt.ylabel('Number of Exhibitions')\n",
    "plt.xticks(rotation=45)\n",
    "plt.show()"
   ]
  },
  {
   "cell_type": "code",
   "execution_count": null,
   "id": "03ba9d90",
   "metadata": {},
   "outputs": [],
   "source": [
    "print(df['e.city'].value_counts())"
   ]
  },
  {
   "cell_type": "code",
   "execution_count": null,
   "id": "1e3d6a05",
   "metadata": {},
   "outputs": [],
   "source": [
    "# Count the number of exhibitions per country\n",
    "country_counts = df['e.country'].value_counts().reset_index()\n",
    "country_counts.columns = ['Country', 'Exhibition Count']\n",
    "\n",
    "# Plotting the top 10 countries with the most exhibitions\n",
    "plt.figure(figsize=(12,6))\n",
    "sns.barplot(data=country_counts.head(10), x='Country', y='Exhibition Count')\n",
    "plt.title('Top 10 Countries by Number of Exhibitions')\n",
    "plt.xlabel('Country')\n",
    "plt.ylabel('Number of Exhibitions')\n",
    "plt.xticks(rotation=45)\n",
    "plt.show()"
   ]
  },
  {
   "cell_type": "code",
   "execution_count": null,
   "id": "91b97394",
   "metadata": {},
   "outputs": [],
   "source": [
    "# Data Cleaning: Extract distinct artists\n",
    "artists = df[['a.id', 'a.birthdate', 'a.deathdate']].drop_duplicates()\n",
    "\n",
    "# Convert birthdate and deathdate to year\n",
    "artists['birth_year'] = pd.to_datetime(artists['a.birthdate'], errors='coerce').dt.year\n",
    "artists['death_year'] = pd.to_datetime(artists['a.deathdate'], errors='coerce').dt.year"
   ]
  },
  {
   "cell_type": "code",
   "execution_count": null,
   "id": "3b93f78a",
   "metadata": {},
   "outputs": [],
   "source": [
    "# Plotting\n",
    "plt.figure(figsize=(14,6))\n",
    "\n",
    "# Distribution of Birth Years\n",
    "plt.subplot(1, 2, 1)\n",
    "sns.histplot(artists['birth_year'].dropna(), bins=30, kde=True, color='skyblue')\n",
    "plt.title('Distribution of Birth Years')\n",
    "plt.xlabel('Year')\n",
    "plt.ylabel('Number of Artists')"
   ]
  },
  {
   "cell_type": "code",
   "execution_count": null,
   "id": "0f0ff930",
   "metadata": {},
   "outputs": [],
   "source": [
    "# Distribution of Death Years\n",
    "plt.subplot(1, 2, 2)\n",
    "sns.histplot(artists['death_year'].dropna(), bins=30, kde=True, color='salmon')\n",
    "plt.title('Distribution of Death Years')\n",
    "plt.xlabel('Year')\n",
    "plt.ylabel('Number of Artists')\n",
    "\n",
    "plt.tight_layout()\n",
    "plt.show()"
   ]
  },
  {
   "cell_type": "code",
   "execution_count": null,
   "id": "659f0592",
   "metadata": {},
   "outputs": [],
   "source": []
  }
 ],
 "metadata": {
  "kernelspec": {
   "display_name": "Python 3 (ipykernel)",
   "language": "python",
   "name": "python3"
  },
  "language_info": {
   "codemirror_mode": {
    "name": "ipython",
    "version": 3
   },
   "file_extension": ".py",
   "mimetype": "text/x-python",
   "name": "python",
   "nbconvert_exporter": "python",
   "pygments_lexer": "ipython3",
   "version": "3.11.5"
  }
 },
 "nbformat": 4,
 "nbformat_minor": 5
}
